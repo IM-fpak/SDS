{
 "cells": [
  {
   "cell_type": "code",
   "execution_count": 5,
   "metadata": {},
   "outputs": [],
   "source": [
    "# Importing packages \n",
    "\n",
    "import pandas as pd\n",
    "import re\n"
   ]
  },
  {
   "cell_type": "markdown",
   "metadata": {},
   "source": [
    "# Advanced Social Data Science 2 (ASDS2) Exercises\n",
    "\n",
    "\n",
    "## April 19: Overview and regular expressions\n",
    "\n",
    "### 1: Thinking about text as data\n",
    "\n",
    "Go to Kaggle’s database of text data sets here: https://www.kaggle.com/datasets?topic=nlpDatasets \n",
    "\n",
    "1. Find an interesting data set. (Try searching the data sets or playing around with the sorting rule in the top right). It doesn’t have to be social sciencey, just whatever looks interesting to you.\n",
    "> https://www.kaggle.com/rmisra/news-headlines-dataset-for-sarcasm-detection\n",
    "2. Describe the variables in the data. What’s there in addition to the text itself, if anything?\n",
    "> is_sarcastic: 1 if the record is sarcastic otherwise 0\n",
    "> headline: the headline of the news article\n",
    "> article_link: link to the original news article. Useful for collecting supplementary data\n",
    "3. What’s a meaningful latent variable which might vary across the texts? (For example, ‘sentiment’ might plausibly vary across movie reviews).\n",
    "> Latent varible: Sarcastic or not? (Binary)\n",
    "4. Assume you could measure the latent variable from (3). How might that latent variable correlate with other properties of the units of the data? (These can be observed variables in the data, or other, unobserved properties).\n",
    "> The media from which the data is colelcted is known for creating sarcastic news(headings), so there might be an increased presence of sarcasm here, comapred to other and mor general news headings \n"
   ]
  },
  {
   "cell_type": "markdown",
   "metadata": {},
   "source": [
    "### 2: Importing text data\n",
    "\n",
    "1. The file mach.csv, available at the course Absalon page, contains part of Machiavelli’s The Prince, subdivided into 188 sections. Download it to your computer.\n",
    "2. Import the file into Python using read_csv() from pandas \n",
    "3. Using the search function from Python’s re module (or a Pandas equivalent), find out in which section(s) the following terms appear:\n",
    "    - lion\n",
    "    - flatterers\n",
    "    - ccmnot\n",
    "4. Why might a nonsensical term like ‘ccmnot’ be in the corpus?\n"
   ]
  },
  {
   "cell_type": "code",
   "execution_count": 16,
   "metadata": {},
   "outputs": [
    {
     "data": {
      "text/html": [
       "<div>\n",
       "<style scoped>\n",
       "    .dataframe tbody tr th:only-of-type {\n",
       "        vertical-align: middle;\n",
       "    }\n",
       "\n",
       "    .dataframe tbody tr th {\n",
       "        vertical-align: top;\n",
       "    }\n",
       "\n",
       "    .dataframe thead th {\n",
       "        text-align: right;\n",
       "    }\n",
       "</style>\n",
       "<table border=\"1\" class=\"dataframe\">\n",
       "  <thead>\n",
       "    <tr style=\"text-align: right;\">\n",
       "      <th></th>\n",
       "      <th>section</th>\n",
       "      <th>text</th>\n",
       "    </tr>\n",
       "  </thead>\n",
       "  <tbody>\n",
       "    <tr>\n",
       "      <th>0</th>\n",
       "      <td>Mach_1.txt.content</td>\n",
       "      <td>DEDICATORY LETTER Niccolo Machiavelli to His M...</td>\n",
       "    </tr>\n",
       "    <tr>\n",
       "      <th>1</th>\n",
       "      <td>Mach_10.txt.content</td>\n",
       "      <td>But considerable problems arise if territorie...</td>\n",
       "    </tr>\n",
       "    <tr>\n",
       "      <th>2</th>\n",
       "      <td>Mach_100.txt.content</td>\n",
       "      <td>them, saying that he could not fight well with...</td>\n",
       "    </tr>\n",
       "    <tr>\n",
       "      <th>3</th>\n",
       "      <td>Mach_101.txt.content</td>\n",
       "      <td>the Swiss, they are not confident of being abl...</td>\n",
       "    </tr>\n",
       "    <tr>\n",
       "      <th>4</th>\n",
       "      <td>Mach_102.txt.content</td>\n",
       "      <td>Empire; and all the vigour that was drained fr...</td>\n",
       "    </tr>\n",
       "    <tr>\n",
       "      <th>...</th>\n",
       "      <td>...</td>\n",
       "      <td>...</td>\n",
       "    </tr>\n",
       "    <tr>\n",
       "      <th>183</th>\n",
       "      <td>Mach_95.txt.content</td>\n",
       "      <td>have said, to avoid hardship and danger. The o...</td>\n",
       "    </tr>\n",
       "    <tr>\n",
       "      <th>184</th>\n",
       "      <td>Mach_96.txt.content</td>\n",
       "      <td>discuss this recent case of Pope Julius II. Hi...</td>\n",
       "    </tr>\n",
       "    <tr>\n",
       "      <th>185</th>\n",
       "      <td>Mach_97.txt.content</td>\n",
       "      <td>infidels.  Therefore, anyone who wants to be u...</td>\n",
       "    </tr>\n",
       "    <tr>\n",
       "      <th>186</th>\n",
       "      <td>Mach_98.txt.content</td>\n",
       "      <td>not consider a victory that is gained by using...</td>\n",
       "    </tr>\n",
       "    <tr>\n",
       "      <th>187</th>\n",
       "      <td>Mach_99.txt.content</td>\n",
       "      <td>he was the complete master of his own forces. ...</td>\n",
       "    </tr>\n",
       "  </tbody>\n",
       "</table>\n",
       "<p>188 rows × 2 columns</p>\n",
       "</div>"
      ],
      "text/plain": [
       "                  section                                               text\n",
       "0      Mach_1.txt.content  DEDICATORY LETTER Niccolo Machiavelli to His M...\n",
       "1     Mach_10.txt.content   But considerable problems arise if territorie...\n",
       "2    Mach_100.txt.content  them, saying that he could not fight well with...\n",
       "3    Mach_101.txt.content  the Swiss, they are not confident of being abl...\n",
       "4    Mach_102.txt.content  Empire; and all the vigour that was drained fr...\n",
       "..                    ...                                                ...\n",
       "183   Mach_95.txt.content  have said, to avoid hardship and danger. The o...\n",
       "184   Mach_96.txt.content  discuss this recent case of Pope Julius II. Hi...\n",
       "185   Mach_97.txt.content  infidels.  Therefore, anyone who wants to be u...\n",
       "186   Mach_98.txt.content  not consider a victory that is gained by using...\n",
       "187   Mach_99.txt.content  he was the complete master of his own forces. ...\n",
       "\n",
       "[188 rows x 2 columns]"
      ]
     },
     "execution_count": 16,
     "metadata": {},
     "output_type": "execute_result"
    }
   ],
   "source": [
    "# 1 + 2 \n",
    "data = pd.read_csv('mach.csv',header=0, names=['section','text'])\n",
    "data"
   ]
  },
  {
   "cell_type": "code",
   "execution_count": 97,
   "metadata": {},
   "outputs": [
    {
     "name": "stdout",
     "output_type": "stream",
     "text": [
      "              0\n",
      "    match      \n",
      "26  0      lion\n",
      "    1      lion\n",
      "27  0      lion\n",
      "    1      lion\n",
      "44  0      lion\n",
      "47  0      lion\n",
      "97  0      lion\n",
      "112 0      lion\n",
      "139 0      lion\n",
      "166 0      lion\n",
      "                   0\n",
      "   match            \n",
      "74 0      flatterers\n",
      "75 0      flatterers\n",
      "   1      flatterers\n",
      "76 0      flatterers\n",
      "               0\n",
      "   match        \n",
      "53 0      ccmnot\n"
     ]
    }
   ],
   "source": [
    "print(data.text.str.extractall(r'(lion)', flags=re.IGNORECASE))\n",
    "print(data.text.str.extractall(r'(flatterers)', flags=re.IGNORECASE))\n",
    "print(data.text.str.extractall(r'(ccmnot)', flags=re.IGNORECASE))\n"
   ]
  },
  {
   "cell_type": "code",
   "execution_count": 109,
   "metadata": {},
   "outputs": [],
   "source": [
    "# Creating columns containing a boolean value for each section showing whether the term is present or not\n",
    "\n",
    "# pd.contains uses re.search() and returns a boolean indicating whether the given term is contained in the text. \n",
    "# re.search() will also return True if the term is part of a longer word, e.g. lioness or lionization\n",
    "\n",
    "data['lion'] = data['text'].str.contains('lion') \n",
    "data['flatterers'] = data['text'].str.contains('flatterers')\n",
    "data['ccmnot'] = data['text'].str.contains('ccmnot')\n"
   ]
  },
  {
   "cell_type": "code",
   "execution_count": 110,
   "metadata": {},
   "outputs": [
    {
     "name": "stdout",
     "output_type": "stream",
     "text": [
      "Sections containing the word \"lion\"\n",
      "26     Mach_122.txt.content\n",
      "27     Mach_123.txt.content\n",
      "44     Mach_139.txt.content\n",
      "47     Mach_141.txt.content\n",
      "97     Mach_187.txt.content\n",
      "112     Mach_30.txt.content\n",
      "139     Mach_55.txt.content\n",
      "166      Mach_8.txt.content\n",
      "Name: section, dtype: object\n",
      "\n",
      "Sections containing the word \"flatterers\"\n",
      "74    Mach_166.txt.content\n",
      "75    Mach_167.txt.content\n",
      "76    Mach_168.txt.content\n",
      "Name: section, dtype: object\n",
      "\n",
      "Sections containing the word \"ccmnot\"\n",
      "53    Mach_147.txt.content\n",
      "Name: section, dtype: object\n"
     ]
    }
   ],
   "source": [
    "print('Sections containing the word \\\"lion\\\"')\n",
    "print(data['section'][data.lion == True])\n",
    "\n",
    "print('\\nSections containing the word \\\"flatterers\\\"')\n",
    "print(data['section'][data.flatterers == True])\n",
    "\n",
    "print('\\nSections containing the word \\\"ccmnot\\\"')\n",
    "print(data['section'][data.ccmnot == True])"
   ]
  },
  {
   "cell_type": "code",
   "execution_count": 112,
   "metadata": {},
   "outputs": [
    {
     "name": "stdout",
     "output_type": "stream",
     "text": [
      "[' But let us return to our subject. I maintain that anyone who considers what I have written will realise that either hatred or contempt led to the downfall of the emperors I have discussed; he will recognise that some of them acted in one way and others in the opposite way, and that one ruler in each group was successful and the others ended badly. Because Pertinax and Alexander were new rulers, it was useless and harmful for them to act like Marcus, who was an hereditary ruler. Likewise, it was harmful for Caracalla, Commodus and Maximinus to act like Severus, because they lacked the ability required to follow in his footsteps. Therefore, a new ruler in a new principality ccmnot imitate the conduct of Marcus, nor again is it necessary to imitate that of Severus. Rather, he should imitate Severus in the courses of action that are necessary for establishing himself in power, and imitate Marcus in those that are necessary for maintaining power that is already established and secure, thus achieving glory. ']\n"
     ]
    }
   ],
   "source": [
    "# Exploring the section containing 'ccmnot'. \n",
    "\n",
    "print(data['text'][data.ccmnot == True].values)"
   ]
  },
  {
   "cell_type": "markdown",
   "metadata": {},
   "source": [
    "### 3: Regular expressions\n",
    "\n",
    "In this exercise, we’re continuing with Python’s re module. \n",
    "<br>The following can be solved using one or more from these three functions in re:\n",
    "`search`\n",
    "`split`\n",
    "`sub`\n",
    "\n",
    "1. Define a string and check that it contains only a certain set of characters (in this case a-z, A-Z and 0-9). \n",
    "2. Define a string and check that it has an a followed by zero or more b's.\n",
    "3. Define a string and check that it has an a followed by one or more b's.\n",
    "4. Using the sample string ‘The quick brown fox jumps over the lazy dog’, search for the words 'fox', 'dog', 'horse'.\n",
    "5. Define a string with the word ‘Road’ in it, and abbreviate 'Road' as 'Rd.' using sub().\n",
    "6. Define a string and perform very simple tokenization by splitting at all whitespaces.\n",
    "7. Define a string and replace whitespaces with an underscore. After, reverse this by replacing underscores with a whitespace.\n",
    "8. Define a string with a few cases of multiple spaces between words and remove all those cases.\n",
    "\n",
    "Hint: Take a look at the documentation for Python's re module to find solutions, and test your regular expression on regextester.com or consult regex101.com \n"
   ]
  },
  {
   "cell_type": "code",
   "execution_count": 108,
   "metadata": {},
   "outputs": [],
   "source": [
    "# 1 Define a string and check that it contains only a certain set of characters (in this case a-z, A-Z and 0-9).\n",
    "\n",
    "def specific_char(string):\n",
    "    string = re.search(r'[^a-zA-Z0-9]', string) #Regex search to find characters that do not (^) match with a-z, A-Z or 0-9\n",
    "    return not bool(string)                     #If any characters not in the set are found, this returns False. \n",
    "\n",
    "print(specific_char(\"ABCDEFabcdef123450\")) \n",
    "print(specific_char(\"*&%@#!}{\"))"
   ]
  },
  {
   "cell_type": "code",
   "execution_count": 113,
   "metadata": {},
   "outputs": [],
   "source": [
    "# 2  \n",
    "\n",
    "def ab_match(text):\n",
    "    if re.search('ab*?',  text): #*? matches the previous token (b) between zero and unlimited times\n",
    "        return 'Found a match!'\n",
    "    else:\n",
    "        return('Not matched!')\n",
    "\n",
    "print(ab_match(\"ac\"))\n",
    "print(ab_match(\"abc\"))\n",
    "print(ab_match(\"abbc\"))\n",
    "print(ab_match(\"bbc\"))"
   ]
  },
  {
   "cell_type": "code",
   "execution_count": null,
   "metadata": {},
   "outputs": [],
   "source": [
    "# 3\n",
    "\n",
    "def ab_match(text):\n",
    "    if re.search('ab+?',  text): #*+ matches the previous token (b) between one and unlimited times\n",
    "        return 'Found a match!'\n",
    "    else:\n",
    "        return('Not matched!')\n",
    "\n",
    "print(ab_match(\"ab\"))\n",
    "print(ab_match(\"abc\"))\n",
    "print(ab_match(\"acb\"))"
   ]
  },
  {
   "cell_type": "code",
   "execution_count": null,
   "metadata": {},
   "outputs": [],
   "source": [
    "# 4 \n",
    "patterns = ['fox', 'dog', 'horse']\n",
    "text = 'The quick brown fox jumps over the lazy dog'\n",
    "\n",
    "for pattern in patterns:\n",
    "    print('Searching for \"%s\" in \"%s\" ->' % (pattern, text),)\n",
    "    if re.search(pattern,  text):\n",
    "        print('Matched!\\n')\n",
    "    else:\n",
    "        print('Not Matched!\\n')\n",
    "        "
   ]
  },
  {
   "cell_type": "code",
   "execution_count": null,
   "metadata": {},
   "outputs": [],
   "source": [
    "# 5  #Define a string with the word ‘Road’ in it, and abbreviate 'Road' as 'Rd.' using sub().\n",
    "\n",
    "text = 'The quick brown fox jumps over the lazy dog on Hampton Road'\n",
    "\n",
    "print(re.sub('Road', 'Rd.', text))\n"
   ]
  },
  {
   "cell_type": "code",
   "execution_count": 114,
   "metadata": {},
   "outputs": [
    {
     "name": "stdout",
     "output_type": "stream",
     "text": [
      "['The', 'quick', 'brown', 'fox', 'jumps', 'over', 'the', 'lazy', 'dog.']\n"
     ]
    }
   ],
   "source": [
    "# 6 Define a string and perform very simple tokenization by splitting at all whitespaces.\n",
    "\n",
    "text = 'The quick brown fox jumps over the lazy dog.'\n",
    "\n",
    "print(re.split(' ', text))\n",
    "\n",
    "#This can also be done easily without regex using text.split(' ')"
   ]
  },
  {
   "cell_type": "code",
   "execution_count": 115,
   "metadata": {},
   "outputs": [
    {
     "name": "stdout",
     "output_type": "stream",
     "text": [
      "Python Exercises --> Python_Exercises\n",
      "Python_Exercises --> Python Exercises\n",
      "\n",
      "Alternative solution, same result\n",
      "Python Exercises --> Python_Exercises\n"
     ]
    }
   ],
   "source": [
    "# 7 \n",
    "text = 'Python Exercises'\n",
    "text1 = 'Python_Exercises'\n",
    "\n",
    "print(text, '-->',re.sub(\" \", \"_\", text))\n",
    "print(text1, '-->', re.sub(\"_\", \" \", text1))\n",
    "\n",
    "#Alternative solution, not using regex\n",
    "print()\n",
    "print('Alternative solution, same result')\n",
    "print(text, '-->', text.replace(' ', '_'))\n"
   ]
  },
  {
   "cell_type": "code",
   "execution_count": 116,
   "metadata": {},
   "outputs": [
    {
     "name": "stdout",
     "output_type": "stream",
     "text": [
      "Original string:\t Python      Exercises\n",
      "Without extra spaces:\t Python Exercises\n"
     ]
    }
   ],
   "source": [
    "# 8 \n",
    "text = 'Python      Exercises'\n",
    "print(\"Original string:\\t\",text)\n",
    "print(\"Without extra spaces:\\t\",re.sub(' +',' ',text)) #+ matches the previous token between one and unlimited times\n"
   ]
  },
  {
   "cell_type": "code",
   "execution_count": null,
   "metadata": {},
   "outputs": [],
   "source": []
  }
 ],
 "metadata": {
  "kernelspec": {
   "display_name": "Python 3",
   "language": "python",
   "name": "python3"
  },
  "language_info": {
   "codemirror_mode": {
    "name": "ipython",
    "version": 3
   },
   "file_extension": ".py",
   "mimetype": "text/x-python",
   "name": "python",
   "nbconvert_exporter": "python",
   "pygments_lexer": "ipython3",
   "version": "3.8.3"
  }
 },
 "nbformat": 4,
 "nbformat_minor": 4
}
