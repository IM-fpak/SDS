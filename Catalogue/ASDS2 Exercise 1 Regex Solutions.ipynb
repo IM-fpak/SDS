{
 "cells": [
  {
   "cell_type": "code",
   "execution_count": 3,
   "metadata": {},
   "outputs": [],
   "source": [
    "# Importing relevant packages \n",
    "\n",
    "import pandas as pd\n",
    "import re\n"
   ]
  },
  {
   "cell_type": "markdown",
   "metadata": {},
   "source": [
    "# Advanced Social Data Science 2 (ASDS2) Exercises\n",
    "\n",
    "\n",
    "## April 19: Overview and regular expressions\n",
    "\n",
    "### 1: Thinking about text as data\n",
    "\n",
    "Go to Kaggle’s database of text data sets here: https://www.kaggle.com/datasets?topic=nlpDatasets \n",
    "\n",
    "1. Find an interesting data set. (Try searching the data sets or playing around with the sorting rule in the top right). It doesn’t have to be social sciencey, just whatever looks interesting to you.\n",
    "2. Describe the variables in the data. What’s there in addition to the text itself, if anything?\n",
    "3. What’s a meaningful latent variable which might vary across the texts? (For example, ‘sentiment’ might plausibly vary across movie reviews).\n",
    "4. Assume you could measure the latent variable from (3). How might that latent variable correlate with other properties of the units of the data? (These can be observed variables in the data, or other, unobserved properties).\n"
   ]
  },
  {
   "cell_type": "code",
   "execution_count": null,
   "metadata": {},
   "outputs": [],
   "source": []
  },
  {
   "cell_type": "markdown",
   "metadata": {},
   "source": [
    "### 2: Importing text data\n",
    "\n",
    "1. The file mach.csv, available at the course Absalon page, contains part of Machiavelli’s The Prince, subdivided into 188 sections. Download it to your computer.\n",
    "2. Import the file into Python using read_csv() from pandas "
   ]
  },
  {
   "cell_type": "code",
   "execution_count": 4,
   "metadata": {},
   "outputs": [],
   "source": [
    "# Importing Machiavelli file\n",
    "\n",
    "mach = pd.read_csv(\"mach.csv\")\n",
    "mach = mach.rename(columns = {'Unnamed: 0': 'section'}) #Renaming unnamed column\n"
   ]
  },
  {
   "cell_type": "markdown",
   "metadata": {},
   "source": [
    "3. Using the search function from Python’s re module (or a Pandas equivalent), find out in which section(s) the following terms appear:\n",
    "    - lion\n",
    "    - flatterers\n",
    "    - ccmnot"
   ]
  },
  {
   "cell_type": "code",
   "execution_count": 5,
   "metadata": {},
   "outputs": [],
   "source": [
    "# Creating columns containing a boolean value for each section showing whether the term is present or not\n",
    "\n",
    "# pd.contains uses re.search() and returns a boolean indicating whether the given term is contained in the text. \n",
    "# re.search() will also return True if the term is part of a longer word, e.g. lioness or lionization\n",
    "\n",
    "mach['lion'] = mach['text'].str.contains('lion') \n",
    "mach['flatterers'] = mach['text'].str.contains('flatterers')\n",
    "mach['ccmnot'] = mach['text'].str.contains('ccmnot')\n"
   ]
  },
  {
   "cell_type": "code",
   "execution_count": 4,
   "metadata": {},
   "outputs": [
    {
     "name": "stdout",
     "output_type": "stream",
     "text": [
      "Sections containing the word \"lion\"\n",
      "26     Mach_122.txt.content\n",
      "27     Mach_123.txt.content\n",
      "44     Mach_139.txt.content\n",
      "47     Mach_141.txt.content\n",
      "97     Mach_187.txt.content\n",
      "112     Mach_30.txt.content\n",
      "139     Mach_55.txt.content\n",
      "166      Mach_8.txt.content\n",
      "Name: section, dtype: object\n",
      "\n",
      "Sections containing the word \"flatterers\"\n",
      "74    Mach_166.txt.content\n",
      "75    Mach_167.txt.content\n",
      "76    Mach_168.txt.content\n",
      "Name: section, dtype: object\n",
      "\n",
      "Sections containing the word \"ccmnot\"\n",
      "53    Mach_147.txt.content\n",
      "Name: section, dtype: object\n"
     ]
    }
   ],
   "source": [
    "print('Sections containing the word \\\"lion\\\"')\n",
    "print(mach['section'][mach.lion == True])\n",
    "\n",
    "print('\\nSections containing the word \\\"flatterers\\\"')\n",
    "print(mach['section'][mach.flatterers == True])\n",
    "\n",
    "print('\\nSections containing the word \\\"ccmnot\\\"')\n",
    "print(mach['section'][mach.ccmnot == True])"
   ]
  },
  {
   "cell_type": "markdown",
   "metadata": {},
   "source": [
    "4. Why might a nonsensical term like ‘ccmnot’ be in the corpus?\n",
    "\n",
    "From investigating the section that contains 'ccmnot', it seems it is a spelling mistake and was supposed to say 'cannot'. Perhaps the Machiavelli text was made digital by scanning and this word was misread by the scanner."
   ]
  },
  {
   "cell_type": "code",
   "execution_count": 5,
   "metadata": {
    "scrolled": true
   },
   "outputs": [
    {
     "name": "stdout",
     "output_type": "stream",
     "text": [
      "[' But let us return to our subject. I maintain that anyone who considers what I have written will realise that either hatred or contempt led to the downfall of the emperors I have discussed; he will recognise that some of them acted in one way and others in the opposite way, and that one ruler in each group was successful and the others ended badly. Because Pertinax and Alexander were new rulers, it was useless and harmful for them to act like Marcus, who was an hereditary ruler. Likewise, it was harmful for Caracalla, Commodus and Maximinus to act like Severus, because they lacked the ability required to follow in his footsteps. Therefore, a new ruler in a new principality ccmnot imitate the conduct of Marcus, nor again is it necessary to imitate that of Severus. Rather, he should imitate Severus in the courses of action that are necessary for establishing himself in power, and imitate Marcus in those that are necessary for maintaining power that is already established and secure, thus achieving glory. ']\n"
     ]
    }
   ],
   "source": [
    "# Exploring the section containing 'ccmnot'. \n",
    "\n",
    "print(mach['text'][mach.ccmnot == True].values)"
   ]
  },
  {
   "cell_type": "markdown",
   "metadata": {},
   "source": [
    "### 3: Regular expressions\n",
    "\n",
    "In this exercise, we’re continuing with Python’s re module. \n",
    "<br>The following can be solved using one or more from these three functions in re:\n",
    "`search`\n",
    "`split`\n",
    "`sub`\n",
    "\n",
    "Hint: Take a look at the documentation for Python's re module to find solutions, and test your regular expression on regextester.com or consult regex101.com "
   ]
  },
  {
   "cell_type": "markdown",
   "metadata": {},
   "source": [
    "1. Define a string and check that it contains only a certain set of characters (in this case a-z, A-Z and 0-9). "
   ]
  },
  {
   "cell_type": "code",
   "execution_count": 6,
   "metadata": {},
   "outputs": [
    {
     "name": "stdout",
     "output_type": "stream",
     "text": [
      "True\n",
      "False\n"
     ]
    }
   ],
   "source": [
    "def specific_char(string):\n",
    "    string = re.search(r'[^a-zA-Z0-9]', string) #Regex search to find characters that do not (^) match with a-z, A-Z or 0-9\n",
    "    return not bool(string)                     #If any characters not in the set are found, this returns False. \n",
    "\n",
    "print(specific_char(\"ABCDEFabcdef123450\")) \n",
    "print(specific_char(\"*&%@#!}{\"))"
   ]
  },
  {
   "cell_type": "markdown",
   "metadata": {},
   "source": [
    "2. Define a string and check that it has an _a_ followed by zero or more _b_'s."
   ]
  },
  {
   "cell_type": "code",
   "execution_count": 7,
   "metadata": {},
   "outputs": [
    {
     "name": "stdout",
     "output_type": "stream",
     "text": [
      "Found a match!\n",
      "Found a match!\n",
      "Found a match!\n",
      "Not matched!\n"
     ]
    }
   ],
   "source": [
    "def ab_match(text):\n",
    "    if re.search('ab*?',  text): #*? matches the previous token (b) between zero and unlimited times\n",
    "        return 'Found a match!'\n",
    "    else:\n",
    "        return('Not matched!')\n",
    "\n",
    "print(ab_match(\"ac\"))\n",
    "print(ab_match(\"abc\"))\n",
    "print(ab_match(\"abbc\"))\n",
    "print(ab_match(\"bbc\"))"
   ]
  },
  {
   "cell_type": "markdown",
   "metadata": {},
   "source": [
    "3. Define a string and check that it has an a followed by one or more b's."
   ]
  },
  {
   "cell_type": "code",
   "execution_count": 8,
   "metadata": {},
   "outputs": [
    {
     "name": "stdout",
     "output_type": "stream",
     "text": [
      "Found a match!\n",
      "Found a match!\n",
      "Not matched!\n"
     ]
    }
   ],
   "source": [
    "def ab_match(text):\n",
    "    if re.search('ab+?',  text): #*+ matches the previous token (b) between one and unlimited times\n",
    "        return 'Found a match!'\n",
    "    else:\n",
    "        return('Not matched!')\n",
    "\n",
    "print(ab_match(\"ab\"))\n",
    "print(ab_match(\"abc\"))\n",
    "print(ab_match(\"acb\"))"
   ]
  },
  {
   "cell_type": "markdown",
   "metadata": {},
   "source": [
    "4. Using the sample string ‘The quick brown fox jumps over the lazy dog’, search for the words 'fox', 'dog', 'horse'."
   ]
  },
  {
   "cell_type": "code",
   "execution_count": 9,
   "metadata": {},
   "outputs": [
    {
     "name": "stdout",
     "output_type": "stream",
     "text": [
      "Searching for \"fox\" in \"The quick brown fox jumps over the lazy dog\" ->\n",
      "Matched!\n",
      "\n",
      "Searching for \"dog\" in \"The quick brown fox jumps over the lazy dog\" ->\n",
      "Matched!\n",
      "\n",
      "Searching for \"horse\" in \"The quick brown fox jumps over the lazy dog\" ->\n",
      "Not Matched!\n",
      "\n"
     ]
    }
   ],
   "source": [
    "patterns = ['fox', 'dog', 'horse']\n",
    "text = 'The quick brown fox jumps over the lazy dog'\n",
    "\n",
    "for pattern in patterns:\n",
    "    print('Searching for \"%s\" in \"%s\" ->' % (pattern, text),)\n",
    "    if re.search(pattern,  text):\n",
    "        print('Matched!\\n')\n",
    "    else:\n",
    "        print('Not Matched!\\n')\n",
    "        "
   ]
  },
  {
   "cell_type": "markdown",
   "metadata": {},
   "source": [
    "5. Define a string with the word ‘Road’ in it, and abbreviate 'Road' as 'Rd.' using sub()."
   ]
  },
  {
   "cell_type": "code",
   "execution_count": 10,
   "metadata": {},
   "outputs": [
    {
     "name": "stdout",
     "output_type": "stream",
     "text": [
      "The quick brown fox jumps over the lazy dog on Hampton Rd.\n"
     ]
    }
   ],
   "source": [
    "#Define a string with the word ‘Road’ in it, and abbreviate 'Road' as 'Rd.' using sub().\n",
    "\n",
    "text = 'The quick brown fox jumps over the lazy dog on Hampton Road'\n",
    "\n",
    "print(re.sub('Road', 'Rd.', text))\n"
   ]
  },
  {
   "cell_type": "markdown",
   "metadata": {},
   "source": [
    "6. Define a string and perform very simple tokenization by splitting at all whitespaces."
   ]
  },
  {
   "cell_type": "code",
   "execution_count": 11,
   "metadata": {},
   "outputs": [
    {
     "name": "stdout",
     "output_type": "stream",
     "text": [
      "['The', 'quick', 'brown', 'fox', 'jumps', 'over', 'the', 'lazy', 'dog.']\n"
     ]
    }
   ],
   "source": [
    "#Define a string and perform very simple tokenization by splitting at all whitespaces.\n",
    "\n",
    "text = 'The quick brown fox jumps over the lazy dog.'\n",
    "\n",
    "print(re.split(' ', text))\n",
    "\n",
    "#This can also be done easily without regex using text.split(' ')"
   ]
  },
  {
   "cell_type": "markdown",
   "metadata": {},
   "source": [
    "7. Define a string and replace whitespaces with an underscore. After, reverse this by replacing underscores with a whitespace."
   ]
  },
  {
   "cell_type": "code",
   "execution_count": 12,
   "metadata": {},
   "outputs": [
    {
     "name": "stdout",
     "output_type": "stream",
     "text": [
      "Python Exercises --> Python_Exercises\n",
      "Python_Exercises --> Python Exercises\n",
      "\n",
      "Alternative solution, same result\n",
      "Python Exercises --> Python_Exercises\n"
     ]
    }
   ],
   "source": [
    "text = 'Python Exercises'\n",
    "text1 = 'Python_Exercises'\n",
    "\n",
    "print(text, '-->',re.sub(\" \", \"_\", text))\n",
    "print(text1, '-->', re.sub(\"_\", \" \", text1))\n",
    "\n",
    "#Alternative solution, not using regex\n",
    "print()\n",
    "print('Alternative solution, same result')\n",
    "print(text, '-->', text.replace(' ', '_'))\n"
   ]
  },
  {
   "cell_type": "markdown",
   "metadata": {},
   "source": [
    "8. Define a string with a few cases of multiple spaces between words and remove all those cases."
   ]
  },
  {
   "cell_type": "code",
   "execution_count": 13,
   "metadata": {},
   "outputs": [
    {
     "name": "stdout",
     "output_type": "stream",
     "text": [
      "Original string:\t Python      Exercises\n",
      "Without extra spaces:\t Python Exercises\n"
     ]
    }
   ],
   "source": [
    "text = 'Python      Exercises'\n",
    "print(\"Original string:\\t\",text)\n",
    "print(\"Without extra spaces:\\t\",re.sub(' +',' ',text)) #+ matches the previous token between one and unlimited times\n"
   ]
  }
 ],
 "metadata": {
  "kernelspec": {
   "display_name": "Python 3",
   "language": "python",
   "name": "python3"
  },
  "language_info": {
   "codemirror_mode": {
    "name": "ipython",
    "version": 3
   },
   "file_extension": ".py",
   "mimetype": "text/x-python",
   "name": "python",
   "nbconvert_exporter": "python",
   "pygments_lexer": "ipython3",
   "version": "3.8.3"
  }
 },
 "nbformat": 4,
 "nbformat_minor": 4
}
