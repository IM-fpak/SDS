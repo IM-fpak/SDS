{
 "cells": [
  {
   "cell_type": "code",
   "execution_count": null,
   "metadata": {},
   "outputs": [],
   "source": [
    "import pandas as pd\n",
    "import numpy as np\n",
    "import pylab as plt\n",
    "%matplotlib inline \n",
    "import seaborn as sns"
   ]
  },
  {
   "cell_type": "markdown",
   "metadata": {},
   "source": [
    "# Visualizing the hSBM topics\n",
    "\n",
    "## German data"
   ]
  },
  {
   "cell_type": "code",
   "execution_count": null,
   "metadata": {},
   "outputs": [],
   "source": [
    "# loading the dataset which we'll visualize\n",
    "de_plot_df = pd.read_csv(r'de_topicmodel_plot.csv')"
   ]
  },
  {
   "cell_type": "code",
   "execution_count": null,
   "metadata": {},
   "outputs": [],
   "source": [
    "# save the names of the topics in a list\n",
    "de_names = ['Neutral vaccine tweets', 'Meaningless: Verbs','Mixed: Covid-19 vaccination', \n",
    "         'Meaningless: Not vaccine-related','Vaccinated vs. unvaccinated people', \n",
    "         'Excitement', 'First and second shot', \n",
    "         'Meaningless: Not vaccine-related','Approvals', \n",
    "         'Vaccination centres', 'Vaccination of children', 'Brands',\n",
    "         'Practicalities of getting an appointment', 'Meaningless: Hashtags', \n",
    "         'Vaccination passport', 'Anti-vaccine and anti-compulsory vaccination',\n",
    "         'Mixed: Appointments and conspiracy theory', 'Mixed: (Not) getting vaccinated',\n",
    "         'Priorisation', 'Anti-vaccine: Demanding vaccination stop', \n",
    "            'Meaningless: Not vaccine-related', 'Meaningless: Not vaccine-related', \n",
    "            'Brands', 'Risk assessment','Fully vaccinated people']\n",
    "\n",
    "# save the topic numbers as a string: We will call them Topic 1 - Topic 25\n",
    "de_topic_no = [f'Topic {i}' for i in de_plot_df['index']]"
   ]
  },
  {
   "cell_type": "code",
   "execution_count": null,
   "metadata": {},
   "outputs": [],
   "source": [
    "# add the topic names and numbers to the dataset\n",
    "de_plot_df.insert(1, \"topics\", de_names, True)\n",
    "de_plot_df.insert(1, \"topics_no\", de_topic_no, True)"
   ]
  },
  {
   "cell_type": "code",
   "execution_count": null,
   "metadata": {},
   "outputs": [],
   "source": [
    "# save the colors that each bar should have\n",
    "# note: the trash topics should appear in grey, the remaining topics should be blue\n",
    "de_colors = dict(zip(de_names,\n",
    "                  ['#BC428A', '#BFBCBB', '#BC428A', '#BFBCBB', '#BC428A', \n",
    "                   '#BC428A', '#BC428A', '#BFBCBB', '#BC428A', '#BC428A', \n",
    "                   '#BC428A', '#BC428A', '#BC428A', '#BC428A', '#BC428A', \n",
    "                   '#BC428A', '#BC428A', '#BC428A', '#BC428A', '#BC428A', \n",
    "                   '#BFBCBB', '#BFBCBB', '#BC428A', '#B8207A', '#B8207A']))"
   ]
  },
  {
   "cell_type": "markdown",
   "metadata": {},
   "source": [
    "## Danish data"
   ]
  },
  {
   "cell_type": "code",
   "execution_count": null,
   "metadata": {},
   "outputs": [],
   "source": [
    "# loading the dataset which we'll visualize\n",
    "da_plot_df = pd.read_csv(r'da_topicmodel_plot.csv')"
   ]
  },
  {
   "cell_type": "code",
   "execution_count": null,
   "metadata": {},
   "outputs": [],
   "source": [
    "# save the names of the topics in a list\n",
    "da_names = ['Meaningless topic: Not vaccine related',\n",
    "            'Meaningless topic: Not vaccine-related',\n",
    "            'Meaningless topic: Spam tweets',\n",
    "            'Waitlist',\n",
    "            'Vaccination of children',\n",
    "            'Moderna',\n",
    "            'First vaccine shot excitement',\n",
    "            'Time of first vaccine shot',\n",
    "            'Doubts & Questions',\n",
    "            'Corona passport',\n",
    "            'International outlook',\n",
    "            'Meaningless topic: English words',\n",
    "            'Vaccine appointments',\n",
    "            'Meaningless topic: Article links ',\n",
    "            'Status on vaccine plan',\n",
    "            'Meaningless topic: Random topic and duplicate links',\n",
    "            'Meaningless topic: Mostly non-danish links',\n",
    "            'Meaningless topic: Not vaccine-related',\n",
    "            'Anti-vaccine',\n",
    "            'Meaningless: Topic 20',\n",
    "            'Vaccine queue'          \n",
    "    \n",
    "]\n",
    "\n",
    "# save the topic numbers as a string: We will call them Topic 1 - Topic 25\n",
    "da_topic_no = [f'Topic {i}' for i in da_plot_df['index']]"
   ]
  },
  {
   "cell_type": "code",
   "execution_count": null,
   "metadata": {},
   "outputs": [],
   "source": [
    "# add the topic names and numbers to the dataset\n",
    "da_plot_df.insert(1, \"topics\", da_names, True)\n",
    "da_plot_df.insert(1, \"topics_no\", da_topic_no, True)"
   ]
  },
  {
   "cell_type": "code",
   "execution_count": null,
   "metadata": {},
   "outputs": [],
   "source": [
    "da_plot_df"
   ]
  },
  {
   "cell_type": "code",
   "execution_count": null,
   "metadata": {},
   "outputs": [],
   "source": [
    "# save the colors that each bar should have\n",
    "# note: the trash topics should appear in grey, the remaining topics should be blue\n",
    "da_colors = dict(zip(da_names,\n",
    "                  ['#BFBCBB', '#BFBCBB', '#BFBCBB', '#338B94', '#338B94', \n",
    "                   '#338B94', '#338B94', '#338B94', '#338B94', '#338B94', \n",
    "                   '#338B94', '#BFBCBB', '#338B94', '#BFBCBB', '#338B94', \n",
    "                   '#BFBCBB', '#BFBCBB', '#BFBCBB', '#338B94', '#BFBCBB', \n",
    "                   '#338B94']))"
   ]
  },
  {
   "cell_type": "markdown",
   "metadata": {},
   "source": [
    "## Polish data"
   ]
  },
  {
   "cell_type": "code",
   "execution_count": null,
   "metadata": {},
   "outputs": [],
   "source": [
    "# loading the dataset which we'll visualize\n",
    "pl_plot_df = pd.read_csv(r'pl_topicmodel_plot.csv')"
   ]
  },
  {
   "cell_type": "code",
   "execution_count": null,
   "metadata": {},
   "outputs": [],
   "source": [
    "# save the names of the topics in a list\n",
    "pl_names = ['Meaningless: Not vaccine-related', \n",
    "            'Meaningless: Not vaccine-related', \n",
    "            'Meaningless: Not vaccine-related',\n",
    "            'Vaccines',\n",
    "            'Vaccination',\n",
    "            'Announcing getting vaccinated',\n",
    "            'Getting a vaccine dose',\n",
    "            'People not wanting to get vaccinated',\n",
    "            'Effectiveness and risks',\n",
    "            'Meaningless: Random words',\n",
    "            'Vaccination lottery',\n",
    "            'Meaningless: Random tweets',\n",
    "            'Short-term symptoms after vaccination',\n",
    "            'Harmful side effects of vaccines',\n",
    "            'Government initiatives and organization of vaccination campaign',\n",
    "            'Undesirable post-vaccination reactions',\n",
    "            'Meaningless: Random tweets',\n",
    "            'Meaningless: Random tweets',\n",
    "            'Meaningless: Random tweets',\n",
    "            'Meaningless: Random tweets',\n",
    "            'Meaningless: Not vaccine related',\n",
    "            'Meaningless: Random tweets',\n",
    "            'Taken/available vaccinations/ which vaccine to take',\n",
    "            'Epidemic in official numbers',\n",
    "            'Deaths and complications after receiving the vaccine'           \n",
    "           ]\n",
    "\n",
    "# save the topic numbers as a string: We will call them Topic 1 - Topic 25\n",
    "pl_topic_no = [f'Topic {i}' for i in pl_plot_df['index']]"
   ]
  },
  {
   "cell_type": "code",
   "execution_count": null,
   "metadata": {},
   "outputs": [],
   "source": [
    "# add the topic names and numbers to the dataset\n",
    "pl_plot_df.insert(1, \"topics\", pl_names, True)\n",
    "pl_plot_df.insert(1, \"topics_no\", pl_topic_no, True)"
   ]
  },
  {
   "cell_type": "code",
   "execution_count": null,
   "metadata": {},
   "outputs": [],
   "source": [
    "# save the colors that each bar should have\n",
    "# note: the trash topics should appear in grey, the remaining topics should be blue\n",
    "pl_colors = dict(zip(pl_names,\n",
    "                  ['#BFBCBB', '#BFBCBB', '#BFBCBB', '#3B7953', '#3B7953', \n",
    "                   '#3B7953', '#3B7953', '#3B7953', '#3B7953', '#BFBCBB', \n",
    "                   '#3B7953', '#BFBCBB', '#3B7953', '#3B7953', '#3B7953', \n",
    "                   '#3B7953', '#BFBCBB', '#BFBCBB', '#BFBCBB', '#BFBCBB', \n",
    "                   '#BFBCBB', '#BFBCBB', '#3B7953', '#3B7953', '#3B7953']))"
   ]
  },
  {
   "cell_type": "markdown",
   "metadata": {},
   "source": [
    "# Plotting"
   ]
  },
  {
   "cell_type": "code",
   "execution_count": null,
   "metadata": {},
   "outputs": [],
   "source": [
    "# specify the font size of the text in the plot\n",
    "font = {'size': 50}\n",
    "plt.rc('font', **font)"
   ]
  },
  {
   "cell_type": "markdown",
   "metadata": {},
   "source": [
    "### All-in-one plot"
   ]
  },
  {
   "cell_type": "code",
   "execution_count": null,
   "metadata": {
    "scrolled": false
   },
   "outputs": [],
   "source": [
    "# PLOTTING\n",
    "\n",
    "# set style\n",
    "sns.set_style(\"whitegrid\")\n",
    "\n",
    "# create the plotting space\n",
    "fig, (ax1, ax2, ax3) = plt.subplots(3, figsize=(50,150))\n",
    "\n",
    "# Danish data\n",
    "# turn labels around\n",
    "da = da_plot_df[::-1]\n",
    "\n",
    "# generate the bar plot and set the colors according to what we specified in the 'color' dictionary \n",
    "ax1.barh(da['topics_no'], da['prevalence'], color=[da_colors[x] for x in da['topics']])\n",
    "\n",
    "# set xlim so that all the labels are properly shown\n",
    "xlim1 = ax1.get_xlim()\n",
    "ax1.set_xlim(right = xlim1[1] + 0.05)\n",
    "\n",
    "# set the xaxis labels\n",
    "ax1.set_xlabel('Topic prevalence over all documents')\n",
    "\n",
    "# set title\n",
    "ax1.set_title('Danish data: 25 most prevalent topics')\n",
    "\n",
    "# Remove the frame: this is the despine method\n",
    "sns.despine(left=True)\n",
    "\n",
    "# we only want vertical lines to be shown, so we turn the gridlines on the yaxis off\n",
    "ax1.yaxis.grid(False) # Show the vertical gridlines\n",
    "\n",
    "# put the labels into the bars\n",
    "\n",
    "# iterate through a dictionary of topic names and their prevalence \n",
    "for i, (topic, prevalence) in enumerate(zip(da['topics'], da['prevalence'])):\n",
    "    \n",
    "    # add each label to the left of the bar\n",
    "    ax1.text(prevalence, i-0.15, '   ' + topic, ha='left')\n",
    "    \n",
    "\n",
    "# German data\n",
    "# turn labels around\n",
    "de = de_plot_df[::-1]\n",
    "\n",
    "# generate the bar plot and set the colors according to what we specified in the 'color' dictionary \n",
    "ax2.barh(de['topics_no'], de['prevalence'], color=[de_colors[x] for x in de['topics']])\n",
    "\n",
    "# set xlim so that all the labels are properly shown\n",
    "xlim2 = ax2.get_xlim()\n",
    "ax2.set_xlim(right = xlim2[1] + 0.03)\n",
    "\n",
    "# set the xaxis labels\n",
    "ax2.set_xlabel('Predicted topic proportions')\n",
    "\n",
    "# set title\n",
    "ax2.set_title('German data: 25 most prevalent topics')\n",
    "\n",
    "# Remove the frame: this is the despine method\n",
    "sns.despine(left=True)\n",
    "\n",
    "# we only want vertical lines to be shown, so we turn the gridlines on the yaxis off\n",
    "ax2.yaxis.grid(False) # Show the vertical gridlines\n",
    "\n",
    "# put the labels into the bars\n",
    "\n",
    "# iterate through a dictionary of topic names and their prevalence \n",
    "for i, (topic, prevalence) in enumerate(zip(de['topics'], de['prevalence'])):\n",
    "    \n",
    "    # add each label to the left of the bar\n",
    "    ax2.text(prevalence, i-0.15, '   ' + topic, ha='left')\n",
    "    \n",
    "\n",
    "# Polish data\n",
    "# turn labels around\n",
    "pl = pl_plot_df[::-1]\n",
    "\n",
    "# generate the bar plot and set the colors according to what we specified in the 'color' dictionary \n",
    "ax3.barh(pl['topics_no'], pl['prevalence'], color=[pl_colors[x] for x in pl['topics']])\n",
    "\n",
    "# set xlim so that all the labels are properly shown\n",
    "xlim3 = ax3.get_xlim()\n",
    "ax3.set_xlim(right = xlim3[1] + 0.05)\n",
    "\n",
    "# set the xaxis labels\n",
    "ax3.set_xlabel('Predicted topic proportions')\n",
    "\n",
    "# set title\n",
    "ax3.set_title('Polish data: 25 most prevalent topics')\n",
    "\n",
    "# Remove the frame: this is the despine method\n",
    "sns.despine(left=True)\n",
    "\n",
    "# we only want vertical lines to be shown, so we turn the gridlines on the yaxis off\n",
    "ax3.yaxis.grid(False) # Show the vertical gridlines\n",
    "\n",
    "# put the labels into the bars\n",
    "\n",
    "# iterate through a dictionary of topic names and their prevalence \n",
    "for i, (topic, prevalence) in enumerate(zip(pl['topics'], pl['prevalence'])):\n",
    "    \n",
    "    # add each label to the left of the bar\n",
    "    ax3.text(prevalence, i-0.15, '   ' + topic, ha='left')"
   ]
  },
  {
   "cell_type": "markdown",
   "metadata": {},
   "source": [
    "### Separate plots"
   ]
  },
  {
   "cell_type": "code",
   "execution_count": null,
   "metadata": {},
   "outputs": [],
   "source": [
    "# specify the font size of the text in the plot\n",
    "font = {'size': 40}\n",
    "plt.rc('font', **font)"
   ]
  },
  {
   "cell_type": "code",
   "execution_count": null,
   "metadata": {
    "scrolled": false
   },
   "outputs": [],
   "source": [
    "# PLOTTING\n",
    "\n",
    "# set style\n",
    "sns.set_style(\"whitegrid\")\n",
    "\n",
    "# create the plotting space\n",
    "fig_da, ax = plt.subplots(figsize=(40,25))\n",
    "\n",
    "# Danish data\n",
    "# turn labels around\n",
    "da = da_plot_df[::-1]\n",
    "\n",
    "# generate the bar plot and set the colors according to what we specified in the 'color' dictionary \n",
    "ax.barh(da['topics_no'], da['prevalence'], color=[da_colors[x] for x in da['topics']])\n",
    "\n",
    "# set xlim so that all the labels are properly shown\n",
    "xlim = ax.get_xlim()\n",
    "ax.set_xlim(right = xlim[1] + 0.07)\n",
    "\n",
    "# set the xaxis labels\n",
    "ax.set_xlabel('Predicted topic proportions')\n",
    "\n",
    "# set title\n",
    "ax.set_title('Danish data: 25 most prevalent topics')\n",
    "\n",
    "# Remove the frame: this is the despine method\n",
    "sns.despine(left=True)\n",
    "\n",
    "# we only want vertical lines to be shown, so we turn the gridlines on the yaxis off\n",
    "ax.yaxis.grid(False) # Show the vertical gridlines\n",
    "\n",
    "# put the labels into the bars\n",
    "\n",
    "# iterate through a dictionary of topic names and their prevalence \n",
    "for i, (topic, prevalence) in enumerate(zip(da['topics'], da['prevalence'])):\n",
    "    \n",
    "    # add each label to the left of the bar\n",
    "    ax.text(prevalence, i-0.15, '   ' + topic, ha='left')\n"
   ]
  },
  {
   "cell_type": "code",
   "execution_count": null,
   "metadata": {},
   "outputs": [],
   "source": [
    "# German data\n",
    "\n",
    "# set style\n",
    "sns.set_style(\"whitegrid\")\n",
    "\n",
    "# create the plotting space\n",
    "fig_de, ax = plt.subplots(figsize=(40,25))\n",
    "\n",
    "# turn labels around\n",
    "de = de_plot_df[::-1]\n",
    "\n",
    "# generate the bar plot and set the colors according to what we specified in the 'color' dictionary \n",
    "ax.barh(de['topics_no'], de['prevalence'], color=[de_colors[x] for x in de['topics']])\n",
    "\n",
    "# set xlim so that all the labels are properly shown\n",
    "xlim2 = ax.get_xlim()\n",
    "ax.set_xlim(right = xlim2[1] + 0.03)\n",
    "\n",
    "# set the xaxis labels\n",
    "ax.set_xlabel('Predicted topic proportions')\n",
    "\n",
    "# set title\n",
    "ax.set_title('German data: 25 most prevalent topics')\n",
    "\n",
    "# Remove the frame: this is the despine method\n",
    "sns.despine(left=True)\n",
    "\n",
    "# we only want vertical lines to be shown, so we turn the gridlines on the yaxis off\n",
    "ax.yaxis.grid(False) # Show the vertical gridlines\n",
    "\n",
    "# put the labels into the bars\n",
    "\n",
    "# iterate through a dictionary of topic names and their prevalence \n",
    "for i, (topic, prevalence) in enumerate(zip(de['topics'], de['prevalence'])):\n",
    "    \n",
    "    # add each label to the left of the bar\n",
    "    ax.text(prevalence, i-0.15, '   ' + topic, ha='left')\n"
   ]
  },
  {
   "cell_type": "code",
   "execution_count": null,
   "metadata": {},
   "outputs": [],
   "source": [
    "# Polish data\n",
    "\n",
    "# set style\n",
    "sns.set_style(\"whitegrid\")\n",
    "\n",
    "# create the plotting space\n",
    "fig_pl, ax = plt.subplots(figsize=(40,25))\n",
    "\n",
    "# turn labels around\n",
    "pl = pl_plot_df[::-1]\n",
    "\n",
    "# generate the bar plot and set the colors according to what we specified in the 'color' dictionary \n",
    "ax.barh(pl['topics_no'], pl['prevalence'], color=[pl_colors[x] for x in pl['topics']])\n",
    "\n",
    "# set xlim so that all the labels are properly shown\n",
    "xlim = ax3.get_xlim()\n",
    "ax.set_xlim(right = xlim3[1] + 0.07)\n",
    "\n",
    "# set the xaxis labels\n",
    "ax.set_xlabel('Predicted topic proportions')\n",
    "\n",
    "# set title\n",
    "ax.set_title('Polish data: 25 most prevalent topics')\n",
    "\n",
    "# Remove the frame: this is the despine method\n",
    "sns.despine(left=True)\n",
    "\n",
    "# we only want vertical lines to be shown, so we turn the gridlines on the yaxis off\n",
    "ax.yaxis.grid(False) # Show the vertical gridlines\n",
    "\n",
    "# put the labels into the bars\n",
    "\n",
    "# iterate through a dictionary of topic names and their prevalence \n",
    "for i, (topic, prevalence) in enumerate(zip(pl['topics'], pl['prevalence'])):\n",
    "    \n",
    "    # add each label to the left of the bar\n",
    "    ax.text(prevalence, i-0.15, '   ' + topic, ha='left')"
   ]
  },
  {
   "cell_type": "code",
   "execution_count": null,
   "metadata": {},
   "outputs": [],
   "source": [
    "# save the graph\n",
    "fig.savefig('all_hsbm_fig.png')"
   ]
  },
  {
   "cell_type": "code",
   "execution_count": null,
   "metadata": {},
   "outputs": [],
   "source": [
    "# save the three separate figures\n",
    "fig_da.savefig('da_hsbm_fig.png')\n",
    "fig_de.savefig('de_hsbm_fig.png')\n",
    "fig_pl.savefig('pl_hsbm_fig.png')"
   ]
  }
 ],
 "metadata": {
  "kernelspec": {
   "display_name": "Python 3",
   "language": "python",
   "name": "python3"
  },
  "language_info": {
   "codemirror_mode": {
    "name": "ipython",
    "version": 3
   },
   "file_extension": ".py",
   "mimetype": "text/x-python",
   "name": "python",
   "nbconvert_exporter": "python",
   "pygments_lexer": "ipython3",
   "version": "3.8.3"
  }
 },
 "nbformat": 4,
 "nbformat_minor": 4
}
