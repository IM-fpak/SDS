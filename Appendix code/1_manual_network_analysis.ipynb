{
 "cells": [
  {
   "cell_type": "markdown",
   "metadata": {},
   "source": [
    "## Manual network analysis\n",
    "...using the ``pyvis package``."
   ]
  },
  {
   "cell_type": "code",
   "execution_count": null,
   "metadata": {},
   "outputs": [],
   "source": [
    "import os\n",
    "import pandas as pd\n",
    "import networkx as nx\n",
    "import collections\n",
    "from pyvis.network import Network\n",
    "from collections import ChainMap\n",
    "import pyvis"
   ]
  },
  {
   "cell_type": "code",
   "execution_count": null,
   "metadata": {},
   "outputs": [],
   "source": [
    "# set working directory\n",
    "os.chdir(r'C:\\Users\\maril\\Documents\\20-21 KU\\block 4\\DM\\twitter\\network_analysis')"
   ]
  },
  {
   "cell_type": "code",
   "execution_count": null,
   "metadata": {
    "scrolled": true
   },
   "outputs": [],
   "source": [
    "# load the data\n",
    "\n",
    "df = pd.read_excel(r'manual_network\\manual_de.xlsx')\n",
    "print(df.shape)\n",
    "df.head()"
   ]
  },
  {
   "cell_type": "markdown",
   "metadata": {},
   "source": [
    "### Prepare the type and platform information as node attributes"
   ]
  },
  {
   "cell_type": "code",
   "execution_count": null,
   "metadata": {},
   "outputs": [],
   "source": [
    "# get the node attributes\n",
    "\n",
    "## types\n",
    "# source nodes\n",
    "source_type_dict = dict(zip(df['source'], df['source_type']))\n",
    "\n",
    "# target nodes\n",
    "target_type_dict = dict(zip(df['target'], df['target_type']))\n",
    "\n",
    "# adding the source dictionaries\n",
    "type_dict = dict(ChainMap(source_type_dict, target_type_dict))"
   ]
  },
  {
   "cell_type": "code",
   "execution_count": null,
   "metadata": {},
   "outputs": [],
   "source": [
    "## platforms\n",
    "# source nodes\n",
    "source_platform_dict = dict(zip(df['source'], df['source_platform']))\n",
    "\n",
    "# target nodes\n",
    "target_platform_dict = dict(zip(df['target'], df['target_platform']))\n",
    "\n",
    "# adding the source dictionaries\n",
    "platform_dict = dict(ChainMap(source_platform_dict, target_platform_dict))"
   ]
  },
  {
   "cell_type": "code",
   "execution_count": null,
   "metadata": {},
   "outputs": [],
   "source": [
    "# create the final node dict (dict of dicts) to be passed\n",
    "node_dict = {}\n",
    "\n",
    "for i in type_dict:\n",
    "    node_dict[i] = {'type':type_dict[i], 'platform':platform_dict[i]}"
   ]
  },
  {
   "cell_type": "markdown",
   "metadata": {},
   "source": [
    "## Creating the graph"
   ]
  },
  {
   "cell_type": "code",
   "execution_count": null,
   "metadata": {},
   "outputs": [],
   "source": [
    "# create an undirected, weighted graph\n",
    "G = nx.from_pandas_edgelist(df, source='source', target='target')"
   ]
  },
  {
   "cell_type": "code",
   "execution_count": null,
   "metadata": {},
   "outputs": [],
   "source": [
    "# set the node attributes\n",
    "nx.set_node_attributes(G, node_dict)"
   ]
  },
  {
   "cell_type": "code",
   "execution_count": null,
   "metadata": {},
   "outputs": [],
   "source": [
    "# These are the colors we used for the different platforms:\n",
    " \n",
    "# Telegram: '#2EE7EA'\n",
    "# News Media: '#42B325'\n",
    "# Webpage: '#EEED24'\n",
    "# Facebook: '#D16AD2'\n",
    "# BitChute: '#B43D2C'\n",
    "# Blog: '#827E7E'\n",
    "# Twitter: '#2494EE' \n",
    "# Forum: '#3D0AA9'\n",
    "# YouTube: '#A90A0E'\n",
    "# Other: '#D78029'\n",
    "\n",
    "# individual: triangle\n",
    "# collective: dot"
   ]
  },
  {
   "cell_type": "code",
   "execution_count": null,
   "metadata": {
    "scrolled": true
   },
   "outputs": [],
   "source": [
    "# make a pyvis network\n",
    "pyvis_graph = Network(\"2000\", \"2300\")\n",
    "\n",
    "# specify node size\n",
    "size=20\n",
    "\n",
    "# get Twitter nodes\n",
    "twitter = set()\n",
    "\n",
    "# for each node and its attributes in the networkx graph\n",
    "for node,node_attrs in G.nodes(data=True):\n",
    "    \n",
    "    if node_attrs['type'] == 'individual':\n",
    "        if node_attrs['platform'] == 'Telegram':\n",
    "            pyvis_graph.add_node(str(node), shape=\"triangle\", color='#2EE7EA', size=size)\n",
    "            \n",
    "        if node_attrs['platform'] == 'News Media':\n",
    "            pyvis_graph.add_node(str(node), shape=\"triangle\", color='#42B325', size=size)\n",
    "            \n",
    "        if node_attrs['platform'] == 'Webpage':\n",
    "            pyvis_graph.add_node(str(node), shape=\"triangle\", color='#EEED24', size=size)\n",
    "            \n",
    "        if node_attrs['platform'] == 'Facebook':\n",
    "            pyvis_graph.add_node(str(node), shape=\"triangle\", color='#D16AD2', size=size)\n",
    "            \n",
    "        if node_attrs['platform'] == 'Blog':\n",
    "            pyvis_graph.add_node(str(node), shape=\"triangle\", color='#827E7E', size=size)\n",
    "            \n",
    "        if node_attrs['platform'] == 'Twitter':\n",
    "            pyvis_graph.add_node(str(node), shape=\"triangle\", color='#2494EE', size=size)\n",
    "            \n",
    "            # add node to the twitter set\n",
    "            twitter.add(node)\n",
    "            \n",
    "        if node_attrs['platform'] == 'Forum':\n",
    "            pyvis_graph.add_node(str(node), shape=\"triangle\", color='#3D0AA9', size=size)\n",
    "            \n",
    "        if node_attrs['platform'] == 'YouTube':\n",
    "            pyvis_graph.add_node(str(node), shape=\"triangle\", color='#A90A0E', size=size)\n",
    "            \n",
    "        if node_attrs['platform'] == 'BitChute':\n",
    "            pyvis_graph.add_node(str(node), shape=\"triangle\", color='#B43D2C', size=size)\n",
    "            \n",
    "        if node_attrs['platform'] == 'Other':\n",
    "            pyvis_graph.add_node(str(node), shape=\"triangle\", color='#D78029', size=size)\n",
    "\n",
    "\n",
    "         \n",
    "    elif node_attrs['type'] == 'collective':\n",
    "        \n",
    "        if node_attrs['platform'] == 'Telegram':\n",
    "            pyvis_graph.add_node(str(node), shape=\"dot\", color='#2EE7EA', size=size)\n",
    "            \n",
    "        if node_attrs['platform'] == 'News Media':\n",
    "            pyvis_graph.add_node(str(node), shape=\"dot\", color='#42B325', size=size)\n",
    "            \n",
    "        if node_attrs['platform'] == 'Webpage':\n",
    "            pyvis_graph.add_node(str(node), shape=\"dot\", color='#EEED24', size=size)\n",
    "    \n",
    "        if node_attrs['platform'] == 'Facebook':\n",
    "            pyvis_graph.add_node(str(node), shape=\"dot\", color='#D16AD2', size=size)\n",
    "            \n",
    "        if node_attrs['platform'] == 'Blog':\n",
    "            pyvis_graph.add_node(str(node), shape=\"dot\", color='#827E7E', size=size)\n",
    "            \n",
    "        if node_attrs['platform'] == 'Twitter':\n",
    "            pyvis_graph.add_node(str(node), shape=\"dot\", color='#2494EE', size=size)\n",
    "            \n",
    "            # add node to the Twitter set\n",
    "            twitter.add(node)\n",
    "            \n",
    "        if node_attrs['platform'] == 'Forum':\n",
    "            pyvis_graph.add_node(str(node), shape=\"dot\", color='#3D0AA9', size=size)\n",
    "            \n",
    "        if node_attrs['platform'] == 'YouTube':\n",
    "            pyvis_graph.add_node(str(node), shape=\"dot\", color='#A90A0E', size=size)\n",
    "            \n",
    "        if node_attrs['platform'] == 'BitChute':\n",
    "            pyvis_graph.add_node(str(node), shape=\"triangle\", color='#B43D2C', size=size)\n",
    "\n",
    "        if node_attrs['platform'] == 'Other':\n",
    "            pyvis_graph.add_node(str(node), shape=\"dot\", color='#D78029', size=size)\n",
    "            \n",
    "# for each edge and its attributes in the networkx graph\n",
    "for source, target, edge_attrs in G.edges(data=True):\n",
    "    \n",
    "    # if retweet, add a purple edge\n",
    "    if source in twitter:\n",
    "        if target in twitter:\n",
    "            \n",
    "            # add the edge\n",
    "            pyvis_graph.add_edge(str(source),str(target),color='#2494EE',physics=True)\n",
    "        \n",
    "        else:\n",
    "            \n",
    "            # add a grey edge\n",
    "            pyvis_graph.add_edge(str(source),str(target),color='#B3B1AF',physics=True)\n",
    "    \n",
    "    else:\n",
    "            \n",
    "        # add a grey edge\n",
    "        pyvis_graph.add_edge(str(source),str(target),color='#B3B1AF',physics=True)\n",
    "    \n",
    " # turn buttons on\n",
    "pyvis_graph.show_buttons(filter_='physics')"
   ]
  },
  {
   "cell_type": "markdown",
   "metadata": {},
   "source": [
    "## View the network"
   ]
  },
  {
   "cell_type": "code",
   "execution_count": null,
   "metadata": {},
   "outputs": [],
   "source": [
    "# display the graph\n",
    "pyvis_graph.show('nt.html')"
   ]
  }
 ],
 "metadata": {
  "kernelspec": {
   "display_name": "Python 3",
   "language": "python",
   "name": "python3"
  },
  "language_info": {
   "codemirror_mode": {
    "name": "ipython",
    "version": 3
   },
   "file_extension": ".py",
   "mimetype": "text/x-python",
   "name": "python",
   "nbconvert_exporter": "python",
   "pygments_lexer": "ipython3",
   "version": "3.8.3"
  }
 },
 "nbformat": 4,
 "nbformat_minor": 4
}
